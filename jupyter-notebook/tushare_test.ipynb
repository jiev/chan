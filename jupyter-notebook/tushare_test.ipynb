{
 "cells": [
  {
   "cell_type": "code",
   "execution_count": 41,
   "metadata": {},
   "outputs": [],
   "source": [
    "from os import path\n",
    "\n",
    "import os\n",
    "import pandas as pd\n",
    "\n",
    "import tushare as ts\n",
    "ts.set_token('14f4fbfa08778cba51c73f0ef928210cf2629931fb06f3a797564a0f')"
   ]
  },
  {
   "cell_type": "code",
   "execution_count": 12,
   "metadata": {},
   "outputs": [],
   "source": [
    "root_drive = path.expanduser('~')\n",
    "g_project_root = path.join(root_drive, 'abu')\n",
    "g_code_list_cn_path = path.join(g_project_root, 'code_list_cn.txt')"
   ]
  },
  {
   "cell_type": "code",
   "execution_count": 3,
   "metadata": {},
   "outputs": [],
   "source": [
    "def update_code_list_cn():\n",
    "    pro = ts.pro_api()\n",
    "    data = pro.query('stock_basic', exchange='', list_status='L', fields='ts_code,symbol,name,area,industry,list_date')\n",
    "    return data"
   ]
  },
  {
   "cell_type": "code",
   "execution_count": 4,
   "metadata": {},
   "outputs": [],
   "source": [
    "df = update_code_list_cn()"
   ]
  },
  {
   "cell_type": "code",
   "execution_count": 5,
   "metadata": {},
   "outputs": [
    {
     "data": {
      "text/html": [
       "<div>\n",
       "<style scoped>\n",
       "    .dataframe tbody tr th:only-of-type {\n",
       "        vertical-align: middle;\n",
       "    }\n",
       "\n",
       "    .dataframe tbody tr th {\n",
       "        vertical-align: top;\n",
       "    }\n",
       "\n",
       "    .dataframe thead th {\n",
       "        text-align: right;\n",
       "    }\n",
       "</style>\n",
       "<table border=\"1\" class=\"dataframe\">\n",
       "  <thead>\n",
       "    <tr style=\"text-align: right;\">\n",
       "      <th></th>\n",
       "      <th>ts_code</th>\n",
       "      <th>symbol</th>\n",
       "      <th>name</th>\n",
       "      <th>area</th>\n",
       "      <th>industry</th>\n",
       "      <th>list_date</th>\n",
       "    </tr>\n",
       "  </thead>\n",
       "  <tbody>\n",
       "    <tr>\n",
       "      <th>0</th>\n",
       "      <td>000001.SZ</td>\n",
       "      <td>000001</td>\n",
       "      <td>平安银行</td>\n",
       "      <td>深圳</td>\n",
       "      <td>银行</td>\n",
       "      <td>19910403</td>\n",
       "    </tr>\n",
       "    <tr>\n",
       "      <th>1</th>\n",
       "      <td>000002.SZ</td>\n",
       "      <td>000002</td>\n",
       "      <td>万科A</td>\n",
       "      <td>深圳</td>\n",
       "      <td>全国地产</td>\n",
       "      <td>19910129</td>\n",
       "    </tr>\n",
       "    <tr>\n",
       "      <th>2</th>\n",
       "      <td>000004.SZ</td>\n",
       "      <td>000004</td>\n",
       "      <td>国农科技</td>\n",
       "      <td>深圳</td>\n",
       "      <td>互联网</td>\n",
       "      <td>19910114</td>\n",
       "    </tr>\n",
       "    <tr>\n",
       "      <th>3</th>\n",
       "      <td>000005.SZ</td>\n",
       "      <td>000005</td>\n",
       "      <td>世纪星源</td>\n",
       "      <td>深圳</td>\n",
       "      <td>环境保护</td>\n",
       "      <td>19901210</td>\n",
       "    </tr>\n",
       "    <tr>\n",
       "      <th>4</th>\n",
       "      <td>000006.SZ</td>\n",
       "      <td>000006</td>\n",
       "      <td>深振业A</td>\n",
       "      <td>深圳</td>\n",
       "      <td>区域地产</td>\n",
       "      <td>19920427</td>\n",
       "    </tr>\n",
       "    <tr>\n",
       "      <th>...</th>\n",
       "      <td>...</td>\n",
       "      <td>...</td>\n",
       "      <td>...</td>\n",
       "      <td>...</td>\n",
       "      <td>...</td>\n",
       "      <td>...</td>\n",
       "    </tr>\n",
       "    <tr>\n",
       "      <th>3946</th>\n",
       "      <td>688596.SH</td>\n",
       "      <td>688596</td>\n",
       "      <td>正帆科技</td>\n",
       "      <td>上海</td>\n",
       "      <td>专用机械</td>\n",
       "      <td>20200820</td>\n",
       "    </tr>\n",
       "    <tr>\n",
       "      <th>3947</th>\n",
       "      <td>688598.SH</td>\n",
       "      <td>688598</td>\n",
       "      <td>金博股份</td>\n",
       "      <td>湖南</td>\n",
       "      <td>矿物制品</td>\n",
       "      <td>20200518</td>\n",
       "    </tr>\n",
       "    <tr>\n",
       "      <th>3948</th>\n",
       "      <td>688599.SH</td>\n",
       "      <td>688599</td>\n",
       "      <td>天合光能</td>\n",
       "      <td>江苏</td>\n",
       "      <td>电气设备</td>\n",
       "      <td>20200610</td>\n",
       "    </tr>\n",
       "    <tr>\n",
       "      <th>3949</th>\n",
       "      <td>688600.SH</td>\n",
       "      <td>688600</td>\n",
       "      <td>皖仪科技</td>\n",
       "      <td>安徽</td>\n",
       "      <td>电器仪表</td>\n",
       "      <td>20200703</td>\n",
       "    </tr>\n",
       "    <tr>\n",
       "      <th>3950</th>\n",
       "      <td>688981.SH</td>\n",
       "      <td>688981</td>\n",
       "      <td>中芯国际-U</td>\n",
       "      <td>上海</td>\n",
       "      <td>半导体</td>\n",
       "      <td>20200716</td>\n",
       "    </tr>\n",
       "  </tbody>\n",
       "</table>\n",
       "<p>3951 rows × 6 columns</p>\n",
       "</div>"
      ],
      "text/plain": [
       "        ts_code  symbol    name area industry list_date\n",
       "0     000001.SZ  000001    平安银行   深圳       银行  19910403\n",
       "1     000002.SZ  000002     万科A   深圳     全国地产  19910129\n",
       "2     000004.SZ  000004    国农科技   深圳      互联网  19910114\n",
       "3     000005.SZ  000005    世纪星源   深圳     环境保护  19901210\n",
       "4     000006.SZ  000006    深振业A   深圳     区域地产  19920427\n",
       "...         ...     ...     ...  ...      ...       ...\n",
       "3946  688596.SH  688596    正帆科技   上海     专用机械  20200820\n",
       "3947  688598.SH  688598    金博股份   湖南     矿物制品  20200518\n",
       "3948  688599.SH  688599    天合光能   江苏     电气设备  20200610\n",
       "3949  688600.SH  688600    皖仪科技   安徽     电器仪表  20200703\n",
       "3950  688981.SH  688981  中芯国际-U   上海      半导体  20200716\n",
       "\n",
       "[3951 rows x 6 columns]"
      ]
     },
     "execution_count": 5,
     "metadata": {},
     "output_type": "execute_result"
    }
   ],
   "source": [
    "df"
   ]
  },
  {
   "cell_type": "code",
   "execution_count": 6,
   "metadata": {},
   "outputs": [],
   "source": [
    "df.to_csv(g_code_list_cn_path, columns=df.columns, index=True, encoding='utf-8')"
   ]
  },
  {
   "cell_type": "code",
   "execution_count": 29,
   "metadata": {},
   "outputs": [],
   "source": [
    "def get_all_symbols_cn():\n",
    "    if not os.path.isfile(g_code_list_cn_path):\n",
    "        update_code_list_cn()\n",
    "\n",
    "    df = pd.read_csv(g_code_list_cn_path, index_col=0)\n",
    "    if df is not None:\n",
    "        ts_codes = df.ts_code.values\n",
    "        ret = []\n",
    "        for val in ts_codes:\n",
    "            parts = val.split('.')\n",
    "            if len(parts) == 2:\n",
    "                if parts[1] == 'SH':\n",
    "                    ret.append('sh' + parts[0])\n",
    "                elif parts[1] == 'SZ':\n",
    "                    ret.append('sz' + parts[0])\n",
    "            \n",
    "        return ret\n",
    "    return None"
   ]
  },
  {
   "cell_type": "code",
   "execution_count": 30,
   "metadata": {},
   "outputs": [],
   "source": [
    "a = get_all_symbols_cn()"
   ]
  },
  {
   "cell_type": "code",
   "execution_count": 35,
   "metadata": {},
   "outputs": [
    {
     "data": {
      "text/plain": [
       "['sh600890',\n",
       " 'sh600892',\n",
       " 'sh600893',\n",
       " 'sh600894',\n",
       " 'sh600895',\n",
       " 'sh600896',\n",
       " 'sh600897',\n",
       " 'sh600898',\n",
       " 'sh600900',\n",
       " 'sh600901']"
      ]
     },
     "execution_count": 35,
     "metadata": {},
     "output_type": "execute_result"
    }
   ],
   "source": [
    "a[3000:3010]"
   ]
  },
  {
   "cell_type": "code",
   "execution_count": 38,
   "metadata": {},
   "outputs": [
    {
     "data": {
      "text/plain": [
       "str"
      ]
     },
     "execution_count": 38,
     "metadata": {},
     "output_type": "execute_result"
    }
   ],
   "source": [
    "import time\n",
    "time.strftime(\"%Y-%m-%d\", time.localtime())"
   ]
  },
  {
   "cell_type": "code",
   "execution_count": 47,
   "metadata": {},
   "outputs": [],
   "source": [
    "def ts_pro_bar(stock_code,startdate,enddate):\n",
    "    if (stock_code[:2] != 'sh' and stock_code[:2] != 'sz') or (not (stock_code[2:]).isdigit()):\n",
    "        logging.error(\"bad stock_code\",stock_code)\n",
    "        return None\n",
    "\n",
    "    # 资产类别：E股票 I沪深指数 C数字货币 FT期货 FD基金 O期权 CB可转债（v1.2.39），默认E\n",
    "    asset = 'E'\n",
    "    if stock_code == \"sh000001\" or stock_code == \"sz399001\":\n",
    "        asset = 'I'\n",
    "\n",
    "    # 复权类型(只针对股票)：None未复权 qfq前复权 hfq后复权 , 默认None\n",
    "    adj = \"qfq\"\n",
    "\n",
    "    ts_code = stock_code[2:] + '.' + stock_code[:2].upper()\n",
    "\n",
    "    df = ts.pro_bar(ts_code=ts_code, asset=asset, adj=adj,start_date=startdate.replace(\"-\",\"\"), end_date=enddate.replace(\"-\",\"\"))\n",
    "    return df"
   ]
  },
  {
   "cell_type": "code",
   "execution_count": 51,
   "metadata": {},
   "outputs": [
    {
     "name": "stdout",
     "output_type": "stream",
     "text": [
      "抱歉，您没有访问该接口的权限，权限的具体详情访问：https://tushare.pro/document/1?doc_id=108。\n",
      "抱歉，您没有访问该接口的权限，权限的具体详情访问：https://tushare.pro/document/1?doc_id=108。\n",
      "抱歉，您没有访问该接口的权限，权限的具体详情访问：https://tushare.pro/document/1?doc_id=108。\n"
     ]
    },
    {
     "ename": "OSError",
     "evalue": "ERROR.",
     "output_type": "error",
     "traceback": [
      "\u001b[0;31m---------------------------------------------------------------------------\u001b[0m",
      "\u001b[0;31mOSError\u001b[0m                                   Traceback (most recent call last)",
      "\u001b[0;32m<ipython-input-51-b9cf08f88dd1>\u001b[0m in \u001b[0;36m<module>\u001b[0;34m\u001b[0m\n\u001b[0;32m----> 1\u001b[0;31m \u001b[0mdftemp\u001b[0m \u001b[0;34m=\u001b[0m \u001b[0mts_pro_bar\u001b[0m\u001b[0;34m(\u001b[0m\u001b[0;34m'sh000001'\u001b[0m\u001b[0;34m,\u001b[0m\u001b[0;34m'2020-07-01'\u001b[0m\u001b[0;34m,\u001b[0m\u001b[0;34m'2020-09-01'\u001b[0m\u001b[0;34m)\u001b[0m\u001b[0;34m\u001b[0m\u001b[0;34m\u001b[0m\u001b[0m\n\u001b[0m",
      "\u001b[0;32m<ipython-input-47-9df06a8a5290>\u001b[0m in \u001b[0;36mts_pro_bar\u001b[0;34m(stock_code, startdate, enddate)\u001b[0m\n\u001b[1;32m     14\u001b[0m     \u001b[0mts_code\u001b[0m \u001b[0;34m=\u001b[0m \u001b[0mstock_code\u001b[0m\u001b[0;34m[\u001b[0m\u001b[0;36m2\u001b[0m\u001b[0;34m:\u001b[0m\u001b[0;34m]\u001b[0m \u001b[0;34m+\u001b[0m \u001b[0;34m'.'\u001b[0m \u001b[0;34m+\u001b[0m \u001b[0mstock_code\u001b[0m\u001b[0;34m[\u001b[0m\u001b[0;34m:\u001b[0m\u001b[0;36m2\u001b[0m\u001b[0;34m]\u001b[0m\u001b[0;34m.\u001b[0m\u001b[0mupper\u001b[0m\u001b[0;34m(\u001b[0m\u001b[0;34m)\u001b[0m\u001b[0;34m\u001b[0m\u001b[0;34m\u001b[0m\u001b[0m\n\u001b[1;32m     15\u001b[0m \u001b[0;34m\u001b[0m\u001b[0m\n\u001b[0;32m---> 16\u001b[0;31m     \u001b[0mdf\u001b[0m \u001b[0;34m=\u001b[0m \u001b[0mts\u001b[0m\u001b[0;34m.\u001b[0m\u001b[0mpro_bar\u001b[0m\u001b[0;34m(\u001b[0m\u001b[0mts_code\u001b[0m\u001b[0;34m=\u001b[0m\u001b[0mts_code\u001b[0m\u001b[0;34m,\u001b[0m \u001b[0masset\u001b[0m\u001b[0;34m=\u001b[0m\u001b[0masset\u001b[0m\u001b[0;34m,\u001b[0m \u001b[0madj\u001b[0m\u001b[0;34m=\u001b[0m\u001b[0madj\u001b[0m\u001b[0;34m,\u001b[0m\u001b[0mstart_date\u001b[0m\u001b[0;34m=\u001b[0m\u001b[0mstartdate\u001b[0m\u001b[0;34m.\u001b[0m\u001b[0mreplace\u001b[0m\u001b[0;34m(\u001b[0m\u001b[0;34m\"-\"\u001b[0m\u001b[0;34m,\u001b[0m\u001b[0;34m\"\"\u001b[0m\u001b[0;34m)\u001b[0m\u001b[0;34m,\u001b[0m \u001b[0mend_date\u001b[0m\u001b[0;34m=\u001b[0m\u001b[0menddate\u001b[0m\u001b[0;34m.\u001b[0m\u001b[0mreplace\u001b[0m\u001b[0;34m(\u001b[0m\u001b[0;34m\"-\"\u001b[0m\u001b[0;34m,\u001b[0m\u001b[0;34m\"\"\u001b[0m\u001b[0;34m)\u001b[0m\u001b[0;34m)\u001b[0m\u001b[0;34m\u001b[0m\u001b[0;34m\u001b[0m\u001b[0m\n\u001b[0m\u001b[1;32m     17\u001b[0m     \u001b[0;32mreturn\u001b[0m \u001b[0mdf\u001b[0m\u001b[0;34m\u001b[0m\u001b[0;34m\u001b[0m\u001b[0m\n",
      "\u001b[0;32m~/anaconda/envs/abu/lib/python3.7/site-packages/tushare/pro/data_pro.py\u001b[0m in \u001b[0;36mpro_bar\u001b[0;34m(ts_code, api, start_date, end_date, freq, asset, exchange, adj, ma, factors, adjfactor, offset, limit, contract_type, retry_count)\u001b[0m\n\u001b[1;32m    191\u001b[0m         \u001b[0;32melse\u001b[0m\u001b[0;34m:\u001b[0m\u001b[0;34m\u001b[0m\u001b[0;34m\u001b[0m\u001b[0m\n\u001b[1;32m    192\u001b[0m             \u001b[0;32mreturn\u001b[0m \u001b[0mdata\u001b[0m\u001b[0;34m\u001b[0m\u001b[0;34m\u001b[0m\u001b[0m\n\u001b[0;32m--> 193\u001b[0;31m     \u001b[0;32mraise\u001b[0m \u001b[0mIOError\u001b[0m\u001b[0;34m(\u001b[0m\u001b[0;34m'ERROR.'\u001b[0m\u001b[0;34m)\u001b[0m\u001b[0;34m\u001b[0m\u001b[0;34m\u001b[0m\u001b[0m\n\u001b[0m\u001b[1;32m    194\u001b[0m \u001b[0;34m\u001b[0m\u001b[0m\n\u001b[1;32m    195\u001b[0m \u001b[0;34m\u001b[0m\u001b[0m\n",
      "\u001b[0;31mOSError\u001b[0m: ERROR."
     ]
    }
   ],
   "source": [
    "dftemp = ts_pro_bar('sh000001','2020-07-01','2020-09-01')"
   ]
  }
 ],
 "metadata": {
  "kernelspec": {
   "display_name": "abu_env",
   "language": "python",
   "name": "abu_env"
  },
  "language_info": {
   "codemirror_mode": {
    "name": "ipython",
    "version": 3
   },
   "file_extension": ".py",
   "mimetype": "text/x-python",
   "name": "python",
   "nbconvert_exporter": "python",
   "pygments_lexer": "ipython3",
   "version": "3.7.6"
  }
 },
 "nbformat": 4,
 "nbformat_minor": 4
}
