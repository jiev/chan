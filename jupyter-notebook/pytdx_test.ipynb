{
 "cells": [
  {
   "cell_type": "markdown",
   "metadata": {},
   "source": [
    "### 使用 pytdx 获取数据示例："
   ]
  },
  {
   "cell_type": "markdown",
   "metadata": {},
   "source": [
    "#### 获取日线数据："
   ]
  },
  {
   "cell_type": "code",
   "execution_count": 8,
   "metadata": {},
   "outputs": [],
   "source": [
    "from pytdx.hq import  TdxHq_API\n",
    "\n",
    "host = '60.191.117.167'\n",
    "port = 7709"
   ]
  },
  {
   "cell_type": "code",
   "execution_count": 9,
   "metadata": {},
   "outputs": [
    {
     "name": "stdout",
     "output_type": "stream",
     "text": [
      "       open  close   high    low        vol        amount  year  month  day  \\\n",
      "0     27.70  27.80  27.90  27.60     1270.0  3.530600e+06  1991     12   23   \n",
      "1     27.90  29.05  29.30  27.00     1050.0  3.050250e+06  1991     12   24   \n",
      "2     29.15  29.30  30.00  29.10     2269.0  6.648170e+06  1991     12   25   \n",
      "3     29.30  28.00  29.30  28.00     1918.0  5.370400e+06  1991     12   26   \n",
      "4     28.00  28.45  28.50  28.00     2105.0  5.988725e+06  1991     12   27   \n",
      "...     ...    ...    ...    ...        ...           ...   ...    ...  ...   \n",
      "6777  14.10  14.47  14.51  14.06  1103215.0  1.578544e+09  2020      8   14   \n",
      "6778  14.60  15.19  15.35  14.55  3268027.0  4.923669e+09  2020      8   17   \n",
      "6779  15.20  15.15  15.30  14.91  1350261.0  2.033478e+09  2020      8   18   \n",
      "6780  15.11  15.10  15.35  14.96  1420928.0  2.154215e+09  2020      8   19   \n",
      "6781  15.01  15.01  15.06  15.01    28185.0  4.233269e+07  2020      8   20   \n",
      "\n",
      "      hour  minute          datetime  \n",
      "0       15       0  1991-12-23 15:00  \n",
      "1       15       0  1991-12-24 15:00  \n",
      "2       15       0  1991-12-25 15:00  \n",
      "3       15       0  1991-12-26 15:00  \n",
      "4       15       0  1991-12-27 15:00  \n",
      "...    ...     ...               ...  \n",
      "6777    15       0  2020-08-14 15:00  \n",
      "6778    15       0  2020-08-17 15:00  \n",
      "6779    15       0  2020-08-18 15:00  \n",
      "6780    15       0  2020-08-19 15:00  \n",
      "6781    15       0  2020-08-20 15:00  \n",
      "\n",
      "[6782 rows x 12 columns]\n"
     ]
    }
   ],
   "source": [
    "api=TdxHq_API()\n",
    "\n",
    "connector = api.connect(host,port)\n",
    "if connector is not None and connector != False:\n",
    "    with connector:\n",
    "        data=[]\n",
    "        for i in range(10):\n",
    "            data+=api.get_security_bars(9,0,'000001',(9-i)*800,800)\n",
    "else:\n",
    "    print('connect failed.')\n",
    "        \n",
    "print(api.to_df(data))"
   ]
  },
  {
   "cell_type": "markdown",
   "metadata": {},
   "source": [
    "#### 获取分钟数据"
   ]
  },
  {
   "cell_type": "code",
   "execution_count": 10,
   "metadata": {},
   "outputs": [
    {
     "name": "stdout",
     "output_type": "stream",
     "text": [
      "       open  close   high    low           vol        amount  year  month  \\\n",
      "0     17.70  17.70  17.70  17.68  1.234000e+05  2.183698e+06  2020      7   \n",
      "1     17.70  17.69  17.71  17.69  4.910000e+04  8.690570e+05  2020      7   \n",
      "2     17.70  17.69  17.70  17.69  3.200000e+04  5.662510e+05  2020      7   \n",
      "3     17.70  17.70  17.71  17.69  1.430000e+04  2.531590e+05  2020      7   \n",
      "4     17.71  17.70  17.71  17.69  3.140000e+04  5.558630e+05  2020      7   \n",
      "...     ...    ...    ...    ...           ...           ...   ...    ...   \n",
      "7995  35.92  35.86  35.94  35.86  2.309000e+05  8.288841e+06  2020      8   \n",
      "7996  35.87  35.81  35.87  35.80  2.741000e+05  9.821551e+06  2020      8   \n",
      "7997  35.83  35.83  35.83  35.83  4.600000e+03  1.648180e+05  2020      8   \n",
      "7998  35.83  35.83  35.83  35.83  5.877472e-39  5.877472e-39  2020      8   \n",
      "7999  35.83  35.83  35.83  35.83  4.832000e+05  1.731306e+07  2020      8   \n",
      "\n",
      "      day  hour  minute          datetime  \n",
      "0       6    13      41  2020-07-06 13:41  \n",
      "1       6    13      42  2020-07-06 13:42  \n",
      "2       6    13      43  2020-07-06 13:43  \n",
      "3       6    13      44  2020-07-06 13:44  \n",
      "4       6    13      45  2020-07-06 13:45  \n",
      "...   ...   ...     ...               ...  \n",
      "7995   20    14      56  2020-08-20 14:56  \n",
      "7996   20    14      57  2020-08-20 14:57  \n",
      "7997   20    14      58  2020-08-20 14:58  \n",
      "7998   20    14      59  2020-08-20 14:59  \n",
      "7999   20    15       0  2020-08-20 15:00  \n",
      "\n",
      "[8000 rows x 12 columns]\n"
     ]
    }
   ],
   "source": [
    "api=TdxHq_API()\n",
    "\n",
    "connector = api.connect(host,port)\n",
    "if connector is not None and connector != False:\n",
    "    with connector:\n",
    "        data=[]\n",
    "        for i in range(10):\n",
    "            data+=api.get_security_bars(7,1,'600316',(9-i)*800,800)\n",
    "else:\n",
    "    print('connect failed.')\n",
    "        \n",
    "print(api.to_df(data))"
   ]
  },
  {
   "cell_type": "markdown",
   "metadata": {},
   "source": [
    "如上结果，vol 应该是成交的股数（手数*100），amount 为成交金额"
   ]
  },
  {
   "cell_type": "code",
   "execution_count": null,
   "metadata": {},
   "outputs": [],
   "source": []
  }
 ],
 "metadata": {
  "kernelspec": {
   "display_name": "abu_env",
   "language": "python",
   "name": "abu_env"
  },
  "language_info": {
   "codemirror_mode": {
    "name": "ipython",
    "version": 3
   },
   "file_extension": ".py",
   "mimetype": "text/x-python",
   "name": "python",
   "nbconvert_exporter": "python",
   "pygments_lexer": "ipython3",
   "version": "3.7.6"
  }
 },
 "nbformat": 4,
 "nbformat_minor": 4
}
