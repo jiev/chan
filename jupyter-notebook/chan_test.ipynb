{
 "cells": [
  {
   "cell_type": "code",
   "execution_count": 1,
   "metadata": {},
   "outputs": [],
   "source": [
    "import numpy as np\n",
    "import pandas as pd\n",
    "import matplotlib.pyplot as plt\n",
    "%matplotlib inline\n",
    "\n",
    "import os\n",
    "import sys\n",
    "sys.path.insert(0, os.path.abspath('../'))\n",
    "\n",
    "from czsc import KlineAnalyze\n",
    "\n",
    "import tushare as ts\n",
    "ts.set_token('14f4fbfa08778cba51c73f0ef928210cf2629931fb06f3a797564a0f')"
   ]
  },
  {
   "cell_type": "markdown",
   "metadata": {},
   "source": [
    "定义数据获取程序如下（实际情况根据需要进行开发）："
   ]
  },
  {
   "cell_type": "code",
   "execution_count": 2,
   "metadata": {},
   "outputs": [],
   "source": [
    "from datetime import datetime, timedelta\n",
    "\n",
    "def get_kline(ts_code, start_date,end_date, freq='30min'):\n",
    "    \"\"\"获取指定级别的前复权K线\n",
    "\n",
    "    :param ts_code: str\n",
    "        股票代码，如 600122.SH\n",
    "    :param freq: str\n",
    "        K线级别，可选值 [1min, 5min, 15min, 30min, 60min, D, M, Y]\n",
    "    :param start_date,end_date: str\n",
    "        日期，如 20190610\n",
    "    :return: pd.DataFrame\n",
    "        columns = [\"symbol\", \"dt\", \"open\", \"close\", \"high\", \"low\", \"vol\"]\n",
    "    \"\"\"\n",
    "\n",
    "    end_date = datetime.strptime(end_date, '%Y%m%d')\n",
    "    end_date = end_date + timedelta(days=1)\n",
    "    end_date = end_date.date().__str__().replace(\"-\", \"\")\n",
    "\n",
    "    pro = ts.pro_api()\n",
    "    df = pro.daily(ts_code=ts_code, start_date=start_date, end_date=end_date)\n",
    "    #print(df)\n",
    "\n",
    "    # 统一 k 线数据格式为 6 列，分别是 [\"symbol\", \"dt\", \"open\", \"close\", \"high\", \"low\", \"vr\"]\n",
    "    if \"min\" in freq:\n",
    "        df.rename(columns={'ts_code': \"symbol\", \"trade_time\": \"dt\"}, inplace=True)\n",
    "    else:\n",
    "        df.rename(columns={'ts_code': \"symbol\", \"trade_date\": \"dt\"}, inplace=True)\n",
    "\n",
    "    df.drop_duplicates(subset='dt', keep='first', inplace=True)\n",
    "    df.sort_values('dt', inplace=True)\n",
    "    df['dt'] = df.dt.apply(str)\n",
    "    if freq.endswith(\"min\"):\n",
    "        # 清理 9:30 的空数据\n",
    "        df['not_start'] = df.dt.apply(lambda x: not x.endswith(\"09:30:00\"))\n",
    "        df = df[df['not_start']]\n",
    "    df.reset_index(drop=True, inplace=True)\n",
    "\n",
    "    k = df[['symbol', 'dt', 'open', 'close', 'high', 'low', 'vol']]\n",
    "\n",
    "    for col in ['open', 'close', 'high', 'low']:\n",
    "        k[col] = k[col].apply(round, args=(2,))\n",
    "    return k"
   ]
  },
  {
   "cell_type": "code",
   "execution_count": 3,
   "metadata": {},
   "outputs": [
    {
     "name": "stderr",
     "output_type": "stream",
     "text": [
      "/Users/zhushuqiong/anaconda/envs/abu/lib/python3.7/site-packages/ipykernel_launcher.py:42: SettingWithCopyWarning: \n",
      "A value is trying to be set on a copy of a slice from a DataFrame.\n",
      "Try using .loc[row_indexer,col_indexer] = value instead\n",
      "\n",
      "See the caveats in the documentation: https://pandas.pydata.org/pandas-docs/stable/user_guide/indexing.html#returning-a-view-versus-a-copy\n"
     ]
    },
    {
     "data": {
      "text/html": [
       "<div>\n",
       "<style scoped>\n",
       "    .dataframe tbody tr th:only-of-type {\n",
       "        vertical-align: middle;\n",
       "    }\n",
       "\n",
       "    .dataframe tbody tr th {\n",
       "        vertical-align: top;\n",
       "    }\n",
       "\n",
       "    .dataframe thead th {\n",
       "        text-align: right;\n",
       "    }\n",
       "</style>\n",
       "<table border=\"1\" class=\"dataframe\">\n",
       "  <thead>\n",
       "    <tr style=\"text-align: right;\">\n",
       "      <th></th>\n",
       "      <th>symbol</th>\n",
       "      <th>dt</th>\n",
       "      <th>open</th>\n",
       "      <th>close</th>\n",
       "      <th>high</th>\n",
       "      <th>low</th>\n",
       "      <th>vol</th>\n",
       "    </tr>\n",
       "  </thead>\n",
       "  <tbody>\n",
       "    <tr>\n",
       "      <th>0</th>\n",
       "      <td>600584.SH</td>\n",
       "      <td>20170710</td>\n",
       "      <td>17.14</td>\n",
       "      <td>16.75</td>\n",
       "      <td>17.14</td>\n",
       "      <td>16.59</td>\n",
       "      <td>189919.24</td>\n",
       "    </tr>\n",
       "    <tr>\n",
       "      <th>1</th>\n",
       "      <td>600584.SH</td>\n",
       "      <td>20170711</td>\n",
       "      <td>16.67</td>\n",
       "      <td>16.02</td>\n",
       "      <td>16.68</td>\n",
       "      <td>16.00</td>\n",
       "      <td>208657.76</td>\n",
       "    </tr>\n",
       "    <tr>\n",
       "      <th>2</th>\n",
       "      <td>600584.SH</td>\n",
       "      <td>20170712</td>\n",
       "      <td>16.00</td>\n",
       "      <td>15.98</td>\n",
       "      <td>16.18</td>\n",
       "      <td>15.60</td>\n",
       "      <td>143915.65</td>\n",
       "    </tr>\n",
       "    <tr>\n",
       "      <th>3</th>\n",
       "      <td>600584.SH</td>\n",
       "      <td>20170713</td>\n",
       "      <td>16.00</td>\n",
       "      <td>15.64</td>\n",
       "      <td>16.07</td>\n",
       "      <td>15.58</td>\n",
       "      <td>121048.21</td>\n",
       "    </tr>\n",
       "    <tr>\n",
       "      <th>4</th>\n",
       "      <td>600584.SH</td>\n",
       "      <td>20170714</td>\n",
       "      <td>15.63</td>\n",
       "      <td>15.95</td>\n",
       "      <td>16.03</td>\n",
       "      <td>15.35</td>\n",
       "      <td>169544.33</td>\n",
       "    </tr>\n",
       "    <tr>\n",
       "      <th>...</th>\n",
       "      <td>...</td>\n",
       "      <td>...</td>\n",
       "      <td>...</td>\n",
       "      <td>...</td>\n",
       "      <td>...</td>\n",
       "      <td>...</td>\n",
       "      <td>...</td>\n",
       "    </tr>\n",
       "    <tr>\n",
       "      <th>719</th>\n",
       "      <td>600584.SH</td>\n",
       "      <td>20200706</td>\n",
       "      <td>35.90</td>\n",
       "      <td>37.51</td>\n",
       "      <td>37.51</td>\n",
       "      <td>35.08</td>\n",
       "      <td>1240966.75</td>\n",
       "    </tr>\n",
       "    <tr>\n",
       "      <th>720</th>\n",
       "      <td>600584.SH</td>\n",
       "      <td>20200707</td>\n",
       "      <td>40.00</td>\n",
       "      <td>38.34</td>\n",
       "      <td>41.26</td>\n",
       "      <td>38.00</td>\n",
       "      <td>2030649.43</td>\n",
       "    </tr>\n",
       "    <tr>\n",
       "      <th>721</th>\n",
       "      <td>600584.SH</td>\n",
       "      <td>20200708</td>\n",
       "      <td>38.94</td>\n",
       "      <td>41.62</td>\n",
       "      <td>42.00</td>\n",
       "      <td>37.71</td>\n",
       "      <td>1676926.20</td>\n",
       "    </tr>\n",
       "    <tr>\n",
       "      <th>722</th>\n",
       "      <td>600584.SH</td>\n",
       "      <td>20200709</td>\n",
       "      <td>40.91</td>\n",
       "      <td>43.33</td>\n",
       "      <td>44.39</td>\n",
       "      <td>40.29</td>\n",
       "      <td>1417807.11</td>\n",
       "    </tr>\n",
       "    <tr>\n",
       "      <th>723</th>\n",
       "      <td>600584.SH</td>\n",
       "      <td>20200710</td>\n",
       "      <td>42.44</td>\n",
       "      <td>47.66</td>\n",
       "      <td>47.66</td>\n",
       "      <td>41.85</td>\n",
       "      <td>1424268.09</td>\n",
       "    </tr>\n",
       "  </tbody>\n",
       "</table>\n",
       "<p>724 rows × 7 columns</p>\n",
       "</div>"
      ],
      "text/plain": [
       "        symbol        dt   open  close   high    low         vol\n",
       "0    600584.SH  20170710  17.14  16.75  17.14  16.59   189919.24\n",
       "1    600584.SH  20170711  16.67  16.02  16.68  16.00   208657.76\n",
       "2    600584.SH  20170712  16.00  15.98  16.18  15.60   143915.65\n",
       "3    600584.SH  20170713  16.00  15.64  16.07  15.58   121048.21\n",
       "4    600584.SH  20170714  15.63  15.95  16.03  15.35   169544.33\n",
       "..         ...       ...    ...    ...    ...    ...         ...\n",
       "719  600584.SH  20200706  35.90  37.51  37.51  35.08  1240966.75\n",
       "720  600584.SH  20200707  40.00  38.34  41.26  38.00  2030649.43\n",
       "721  600584.SH  20200708  38.94  41.62  42.00  37.71  1676926.20\n",
       "722  600584.SH  20200709  40.91  43.33  44.39  40.29  1417807.11\n",
       "723  600584.SH  20200710  42.44  47.66  47.66  41.85  1424268.09\n",
       "\n",
       "[724 rows x 7 columns]"
      ]
     },
     "execution_count": 3,
     "metadata": {},
     "output_type": "execute_result"
    }
   ],
   "source": [
    "kline = get_kline(ts_code=\"600584.SH\", start_date=\"20170710\",end_date=\"20200710\", freq='D')\n",
    "kline"
   ]
  },
  {
   "cell_type": "markdown",
   "metadata": {},
   "source": [
    "使用 KlineAnalyze 进行分析"
   ]
  },
  {
   "cell_type": "code",
   "execution_count": 4,
   "metadata": {},
   "outputs": [],
   "source": [
    "ka = KlineAnalyze(kline)"
   ]
  },
  {
   "cell_type": "code",
   "execution_count": 5,
   "metadata": {},
   "outputs": [
    {
     "name": "stderr",
     "output_type": "stream",
     "text": [
      "/Users/zhushuqiong/anaconda/envs/abu/lib/python3.7/site-packages/pyecharts/charts/chart.py:14: PendingDeprecationWarning: pyecharts 所有图表类型将在 v1.9.0 版本开始强制使用 ChartItem 进行数据项配置 :)\n",
      "  super().__init__(init_opts=init_opts)\n",
      "/Users/zhushuqiong/anaconda/envs/abu/lib/python3.7/site-packages/pyecharts/charts/chart.py:14: PendingDeprecationWarning: pyecharts 所有图表类型将在 v1.9.0 版本开始强制使用 ChartItem 进行数据项配置 :)\n",
      "  super().__init__(init_opts=init_opts)\n",
      "/Users/zhushuqiong/anaconda/envs/abu/lib/python3.7/site-packages/pyecharts/charts/chart.py:14: PendingDeprecationWarning: pyecharts 所有图表类型将在 v1.9.0 版本开始强制使用 ChartItem 进行数据项配置 :)\n",
      "  super().__init__(init_opts=init_opts)\n",
      "/Users/zhushuqiong/anaconda/envs/abu/lib/python3.7/site-packages/pyecharts/charts/chart.py:14: PendingDeprecationWarning: pyecharts 所有图表类型将在 v1.9.0 版本开始强制使用 ChartItem 进行数据项配置 :)\n",
      "  super().__init__(init_opts=init_opts)\n",
      "/Users/zhushuqiong/anaconda/envs/abu/lib/python3.7/site-packages/pyecharts/charts/chart.py:14: PendingDeprecationWarning: pyecharts 所有图表类型将在 v1.9.0 版本开始强制使用 ChartItem 进行数据项配置 :)\n",
      "  super().__init__(init_opts=init_opts)\n",
      "/Users/zhushuqiong/anaconda/envs/abu/lib/python3.7/site-packages/pyecharts/charts/composite_charts/grid.py:17: PendingDeprecationWarning: pyecharts 所有图表类型将在 v1.9.0 版本开始强制使用 ChartItem 进行数据项配置 :)\n",
      "  super().__init__(init_opts=init_opts)\n"
     ]
    }
   ],
   "source": [
    "ka.to_html()"
   ]
  },
  {
   "cell_type": "code",
   "execution_count": 6,
   "metadata": {},
   "outputs": [
    {
     "data": {
      "text/plain": [
       "(0, 0)"
      ]
     },
     "execution_count": 6,
     "metadata": {},
     "output_type": "execute_result"
    }
   ],
   "source": [
    "ka.up_zs_number(),ka.down_zs_number()"
   ]
  },
  {
   "cell_type": "code",
   "execution_count": 8,
   "metadata": {},
   "outputs": [
    {
     "data": {
      "text/plain": [
       "[{'ZD': 15.01,\n",
       "  'ZG': 16.17,\n",
       "  'G': 16.17,\n",
       "  'GG': 26.12,\n",
       "  'D': 16.42,\n",
       "  'DD': 8.04,\n",
       "  'points': [{'dt': '20170718',\n",
       "    'fx_mark': 'd',\n",
       "    'fx_high': 15.75,\n",
       "    'fx_low': 15.01,\n",
       "    'xd': 15.01},\n",
       "   {'dt': '20170720',\n",
       "    'fx_mark': 'g',\n",
       "    'fx_high': 16.17,\n",
       "    'fx_low': 15.45,\n",
       "    'xd': 16.17},\n",
       "   {'dt': '20170811',\n",
       "    'fx_mark': 'd',\n",
       "    'fx_high': 15.08,\n",
       "    'fx_low': 14.82,\n",
       "    'xd': 14.82},\n",
       "   {'dt': '20171113',\n",
       "    'fx_mark': 'g',\n",
       "    'fx_high': 26.12,\n",
       "    'fx_low': 23.95,\n",
       "    'xd': 26.12},\n",
       "   {'dt': '20180207',\n",
       "    'fx_mark': 'd',\n",
       "    'fx_high': 17.45,\n",
       "    'fx_low': 16.42,\n",
       "    'xd': 16.42},\n",
       "   {'dt': '20180425',\n",
       "    'fx_mark': 'g',\n",
       "    'fx_high': 24.45,\n",
       "    'fx_low': 23.05,\n",
       "    'xd': 24.45},\n",
       "   {'dt': '20190104',\n",
       "    'fx_mark': 'd',\n",
       "    'fx_high': 8.37,\n",
       "    'fx_low': 8.04,\n",
       "    'xd': 8.04},\n",
       "   {'dt': '20190312',\n",
       "    'fx_mark': 'g',\n",
       "    'fx_high': 16.99,\n",
       "    'fx_low': 14.88,\n",
       "    'xd': 16.99},\n",
       "   {'dt': '20190507',\n",
       "    'fx_mark': 'd',\n",
       "    'fx_high': 11.21,\n",
       "    'fx_low': 10.58,\n",
       "    'xd': 10.58}]}]"
      ]
     },
     "execution_count": 8,
     "metadata": {},
     "output_type": "execute_result"
    }
   ],
   "source": [
    "ka.zs_list"
   ]
  }
 ],
 "metadata": {
  "kernelspec": {
   "display_name": "abu_env",
   "language": "python",
   "name": "abu_env"
  },
  "language_info": {
   "codemirror_mode": {
    "name": "ipython",
    "version": 3
   },
   "file_extension": ".py",
   "mimetype": "text/x-python",
   "name": "python",
   "nbconvert_exporter": "python",
   "pygments_lexer": "ipython3",
   "version": "3.7.6"
  },
  "pycharm": {
   "stem_cell": {
    "cell_type": "raw",
    "source": [],
    "metadata": {
     "collapsed": false
    }
   }
  }
 },
 "nbformat": 4,
 "nbformat_minor": 4
}